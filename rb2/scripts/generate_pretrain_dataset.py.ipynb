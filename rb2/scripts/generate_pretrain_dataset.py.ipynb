{
 "cells": [
  {
   "cell_type": "code",
   "execution_count": 1,
   "id": "7cdd6a52",
   "metadata": {},
   "outputs": [],
   "source": [
    "# Copyright (c) Meta Platforms, Inc. and affiliates.\n",
    "#\n",
    "# This source code is licensed under the MIT license found in the\n",
    "# LICENSE file in the root directory of this source tree.\n",
    "\n",
    "import os\n",
    "\n",
    "import random \n",
    "from dataclasses import dataclass\n",
    "\n",
    "import cv2\n",
    "import numpy as np"
   ]
  },
  {
   "cell_type": "code",
   "execution_count": 2,
   "id": "95b3eebe",
   "metadata": {},
   "outputs": [],
   "source": [
    "data_dir = \"data\"\n",
    "data = []\n",
    "\n",
    "@dataclass\n",
    "class Sample:\n",
    "    img: np.ndarray\n",
    "    pos: np.ndarray\n",
    "\n",
    "# Import positions\n",
    "sample_positions = np.load(\"data/sample_positions.npy\")\n",
    "\n",
    "# Import images\n",
    "for i_obj in range(8):\n",
    "    for j_pos in range(40):\n",
    "        basename = f\"pouring_train{i_obj+1}_pos{j_pos+1}.jpg\"\n",
    "        filename = os.path.join(data_dir, basename)\n",
    "        \n",
    "        img = cv2.imread(filename)\n",
    "        img_downsampled = cv2.resize(img, (160, 120)) \n",
    "        pos = sample_positions[j_pos, :]\n",
    "        \n",
    "        data.append(Sample(img_downsampled, pos))"
   ]
  },
  {
   "cell_type": "code",
   "execution_count": 3,
   "id": "e742ba6a",
   "metadata": {},
   "outputs": [],
   "source": [
    "test_ratio = 0.1\n",
    "\n",
    "n_test = int(test_ratio * len(data))\n",
    "random.shuffle(data)\n",
    "data_train = data[n_test:]\n",
    "data_test = data[:n_test]\n",
    "\n",
    "output_dict = {\n",
    "    \"train_pos\": [sample.pos for sample in data_train],\n",
    "    \"train_imgs\": [sample.img for sample in data_train],\n",
    "    \"test_pos\": [sample.pos for sample in data_test],\n",
    "    \"test_imgs\": [sample.img for sample in data_test],\n",
    "    \"mean_train_pos\": np.mean(sample_positions, axis=0),\n",
    "    \"std_train_pos\": np.mean(sample_positions, axis=0),\n",
    "}"
   ]
  },
  {
   "cell_type": "code",
   "execution_count": 4,
   "id": "a33499ac",
   "metadata": {},
   "outputs": [],
   "source": [
    "np.savez(\"data/pretext.npz\", **output_dict)"
   ]
  },
  {
   "cell_type": "code",
   "execution_count": null,
   "id": "2ed49d0d",
   "metadata": {},
   "outputs": [],
   "source": []
  }
 ],
 "metadata": {
  "kernelspec": {
   "display_name": "Python 3 (ipykernel)",
   "language": "python",
   "name": "python3"
  },
  "language_info": {
   "codemirror_mode": {
    "name": "ipython",
    "version": 3
   },
   "file_extension": ".py",
   "mimetype": "text/x-python",
   "name": "python",
   "nbconvert_exporter": "python",
   "pygments_lexer": "ipython3",
   "version": "3.8.12"
  }
 },
 "nbformat": 4,
 "nbformat_minor": 5
}
