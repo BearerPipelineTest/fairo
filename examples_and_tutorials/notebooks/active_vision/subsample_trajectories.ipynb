{
 "cells": [
  {
   "cell_type": "code",
   "execution_count": 6,
   "id": "a5d5ce35-7b0d-4da1-a137-22c8d8fd6246",
   "metadata": {},
   "outputs": [],
   "source": [
    "act_dir = '/checkpoint/apratik/data_devfair0187/apartment_0/straightline/no_noise/1633991019'\n",
    "def_dir = '/checkpoint/apratik/data/data/apartment_0/default/no_noise/mul_traj_200_combined_2/'\n",
    "\n",
    "num_traj = 20\n",
    "\n",
    "import os\n",
    "\n",
    "def select_eligible(dd, num_traj, pref=''):\n",
    "    selected = {}\n",
    "    traj = 1\n",
    "    while True:\n",
    "        traj_path = os.path.join(dd, str(traj), pref)\n",
    "        if not os.path.isdir(traj_path):\n",
    "            print(f'{traj_path} not found! Exiting')\n",
    "            break\n",
    "        \n",
    "        imgs = os.listdir(os.path.join(traj_path, 'rgb'))\n",
    "        print(f'{len(imgs)} in {traj_path}')\n",
    "        if len(imgs) > 1000:\n",
    "            selected[traj] = len(imgs)\n",
    "        \n",
    "        traj += 1\n",
    "        if len(selected.keys()) >= num_traj:\n",
    "            break\n",
    "        \n",
    "    return selected"
   ]
  },
  {
   "cell_type": "code",
   "execution_count": 7,
   "id": "c6cac4aa-5a06-436d-ae5c-8f7fcab23e42",
   "metadata": {},
   "outputs": [],
   "source": [
    "act_eligible = select_eligible(act_dir, 20, 'default')"
   ]
  },
  {
   "cell_type": "code",
   "execution_count": 8,
   "id": "4245a35a-5e09-4ab5-a7b5-0d10a553b231",
   "metadata": {},
   "outputs": [],
   "source": [
    "def_eligible = select_eligible(def_dir, 20)"
   ]
  },
  {
   "cell_type": "code",
   "execution_count": 9,
   "id": "d2239353-46f5-4b1c-bbe3-eeafb8cb257b",
   "metadata": {},
   "outputs": [
    {
     "name": "stdout",
     "output_type": "stream",
     "text": [
      "1 1517\n",
      "2 1677\n",
      "3 1093\n",
      "4 1797\n",
      "5 1874\n",
      "7 1895\n",
      "8 1615\n",
      "9 1593\n",
      "10 1677\n",
      "11 2038\n",
      "12 2283\n",
      "13 1820\n",
      "14 1456\n",
      "15 1615\n",
      "16 1823\n",
      "17 1825\n",
      "18 1623\n",
      "19 1327\n",
      "20 2090\n",
      "21 1816\n"
     ]
    }
   ],
   "source": [
    "for k,v in act_eligible.items():\n",
    "    print(k, v)"
   ]
  },
  {
   "cell_type": "code",
   "execution_count": 10,
   "id": "96af3df4-59bc-48d4-8857-c5554bd74253",
   "metadata": {},
   "outputs": [
    {
     "name": "stdout",
     "output_type": "stream",
     "text": [
      "1 1247\n",
      "2 2502\n",
      "3 2335\n",
      "4 2353\n",
      "5 2579\n",
      "6 1915\n",
      "7 1656\n",
      "8 1278\n",
      "9 2224\n",
      "10 2539\n",
      "11 2991\n",
      "12 1110\n",
      "13 1888\n",
      "14 2357\n",
      "15 1343\n",
      "16 2744\n",
      "17 1859\n",
      "18 2724\n",
      "19 2339\n",
      "20 2568\n"
     ]
    }
   ],
   "source": [
    "for k,v in def_eligible.items():\n",
    "    print(k, v)"
   ]
  },
  {
   "cell_type": "code",
   "execution_count": null,
   "id": "a5577989-b734-4ff7-a6b8-324fe2cc4e49",
   "metadata": {},
   "outputs": [
    {
     "name": "stdout",
     "output_type": "stream",
     "text": [
      "/checkpoint/apratik/data_devfair0187/apartment_0/straightline/no_noise/1633991019_sampled20 /checkpoint/apratik/data/data/apartment_0/default/no_noise/mul_traj_200_combined_2_sampled20\n",
      "(1, 1517, 1, 1247)\n",
      "(1247, 1, 1)\n",
      "sampling first 1247 things from src_dir /checkpoint/apratik/data_devfair0187/apartment_0/straightline/no_noise/1633991019/1/default, out_dir /checkpoint/apratik/data_devfair0187/apartment_0/straightline/no_noise/1633991019_sampled20/1/default\n",
      "creating /checkpoint/apratik/data_devfair0187/apartment_0/straightline/no_noise/1633991019_sampled20/1/default\n",
      "sampling first 1247 things from src_dir /checkpoint/apratik/data/data/apartment_0/default/no_noise/mul_traj_200_combined_2/1/, out_dir /checkpoint/apratik/data/data/apartment_0/default/no_noise/mul_traj_200_combined_2_sampled20/1/\n",
      "(2, 1677, 2, 2502)\n",
      "(1677, 2, 2)\n",
      "sampling first 1677 things from src_dir /checkpoint/apratik/data_devfair0187/apartment_0/straightline/no_noise/1633991019/2/default, out_dir /checkpoint/apratik/data_devfair0187/apartment_0/straightline/no_noise/1633991019_sampled20/2/default\n",
      "creating /checkpoint/apratik/data_devfair0187/apartment_0/straightline/no_noise/1633991019_sampled20/2/default\n",
      "sampling first 1677 things from src_dir /checkpoint/apratik/data/data/apartment_0/default/no_noise/mul_traj_200_combined_2/2/, out_dir /checkpoint/apratik/data/data/apartment_0/default/no_noise/mul_traj_200_combined_2_sampled20/2/\n",
      "creating /checkpoint/apratik/data/data/apartment_0/default/no_noise/mul_traj_200_combined_2_sampled20/2/\n",
      "(3, 1093, 3, 2335)\n",
      "(1093, 3, 3)\n",
      "sampling first 1093 things from src_dir /checkpoint/apratik/data_devfair0187/apartment_0/straightline/no_noise/1633991019/3/default, out_dir /checkpoint/apratik/data_devfair0187/apartment_0/straightline/no_noise/1633991019_sampled20/3/default\n",
      "creating /checkpoint/apratik/data_devfair0187/apartment_0/straightline/no_noise/1633991019_sampled20/3/default\n"
     ]
    }
   ],
   "source": [
    "# now create new folder upto the min length\n",
    "act_out = '/checkpoint/apratik/data_devfair0187/apartment_0/straightline/no_noise/1633991019_sampled20'\n",
    "def_out = '/checkpoint/apratik/data/data/apartment_0/default/no_noise/mul_traj_200_combined_2_sampled20'\n",
    "\n",
    "print(act_out, def_out)\n",
    "\n",
    "def get_traj_length(ae, de, i):\n",
    "    # get the ith k, v from each dict, return min length\n",
    "    def get_ith_kv(d, i):\n",
    "        x = 1\n",
    "        for k, v in d.items():\n",
    "            if x == i:\n",
    "                return k,v\n",
    "            x += 1\n",
    "            \n",
    "    \n",
    "    ta_i, la_i = get_ith_kv(ae, i)\n",
    "    td_i, ld_i = get_ith_kv(de, i)\n",
    "    print(f'{ta_i, la_i, td_i, ld_i}')\n",
    "    return min(la_i, ld_i), ta_i, td_i\n",
    "    \n",
    "import json\n",
    "import glob\n",
    "\n",
    "def acopyjson(a, b, num):\n",
    "    with open(a, \"r\") as f:\n",
    "        dat = json.load(f)\n",
    "        \n",
    "    dat2 = {}\n",
    "    \n",
    "    for x in range(num):\n",
    "        dat2.update({x: dat[str(x)]})\n",
    "        \n",
    "    with open(b, \"w\") as fp:\n",
    "        json.dump(dat2, fp)\n",
    "\n",
    "from shutil import copyfile\n",
    "\n",
    "def acopydir(a, b, ext, num):\n",
    "#     print(f'acopydir {r}')\n",
    "    if not os.path.isdir(b):\n",
    "        os.makedirs(b)   \n",
    "        \n",
    "    for x in range(num):\n",
    "        f = \"{:05d}{}\".format(x, ext)\n",
    "#         print(f)\n",
    "        copyfile(os.path.join(a,f), os.path.join(b,f))\n",
    "\n",
    "def basic_sanity(traj_path):\n",
    "    def ll(x, y, ext):\n",
    "        return len(glob.glob(os.path.join(x, y, f'*{ext}')))\n",
    "    # load json\n",
    "    with open(os.path.join(traj_path, 'data.json'), 'r') as f:\n",
    "        data = json.load(f)\n",
    "    assert ll(traj_path, 'rgb', '.jpg') == ll(traj_path, 'seg', '.npy') == ll(traj_path, 'depth', '.npy') == len(data.keys())\n",
    "    \n",
    "def scopy(sd, st, dd, dt, l, pref=''):\n",
    "    out_dir = os.path.join(dd, str(dt), pref)\n",
    "    src_dir = os.path.join(sd, str(st), pref)\n",
    "    \n",
    "    print(f'sampling first {l} things from src_dir {src_dir}, out_dir {out_dir}')\n",
    "    assert dd != sd\n",
    "    \n",
    "    if not os.path.isdir(out_dir):\n",
    "        print(f'creating {out_dir}')\n",
    "        os.makedirs(out_dir)\n",
    "    \n",
    "    acopydir(os.path.join(src_dir, 'rgb'), os.path.join(out_dir, 'rgb'), '.jpg', l)\n",
    "    acopydir(os.path.join(src_dir, 'depth'), os.path.join(out_dir, 'depth'), '.npy', l)\n",
    "    acopydir(os.path.join(src_dir, 'seg'), os.path.join(out_dir, 'seg'), '.npy', l)\n",
    "    acopyjson(os.path.join(src_dir, 'data.json'), os.path.join(out_dir, 'data.json'), l)\n",
    "    \n",
    "    basic_sanity(out_dir)\n",
    "    \n",
    "for i in range(1, 21):\n",
    "    minl, act_traj, def_traj = get_traj_length(act_eligible, def_eligible, i)\n",
    "    print(f'{minl, act_traj, def_traj}')\n",
    "    \n",
    "    # now copy minl things \n",
    "    scopy(act_dir, act_traj, act_out, i, minl, 'default')\n",
    "    scopy(def_dir, def_traj, def_out, i, minl)\n",
    "    "
   ]
  },
  {
   "cell_type": "code",
   "execution_count": null,
   "id": "79537d34-af93-45ee-b475-839ce5884fd8",
   "metadata": {},
   "outputs": [],
   "source": []
  }
 ],
 "metadata": {
  "kernelspec": {
   "display_name": "loco",
   "language": "python",
   "name": "loco"
  },
  "language_info": {
   "codemirror_mode": {
    "name": "ipython",
    "version": 3
   },
   "file_extension": ".py",
   "mimetype": "text/x-python",
   "name": "python",
   "nbconvert_exporter": "python",
   "pygments_lexer": "ipython3",
   "version": "3.7.4"
  }
 },
 "nbformat": 4,
 "nbformat_minor": 5
}
