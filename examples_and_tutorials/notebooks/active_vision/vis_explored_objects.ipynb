{
 "cells": [
  {
   "cell_type": "code",
   "execution_count": null,
   "id": "4b86372d-7532-48ed-b79a-0403fbabcb4f",
   "metadata": {},
   "outputs": [],
   "source": [
    "data_dir = '/checkpoint/apratik/data_devfair0187/apartment_0/straightline/no_noise/1633991019/'\n",
    "\n",
    "num_traj = 3\n",
    "\n",
    "import os\n",
    "import matplotlib.pyplot as plt\n",
    "import cv2\n",
    "from IPython.display import Video\n",
    "\n",
    "# traj_ranges = {\n",
    "#     2: [(0,32), (32,41), (69,78), (207,234), (365,389), (466,589)],\n",
    "#     3: [(115,173), (189,237), (334,397), (398,419)],\n",
    "#     4: [(64,142), (387,447), (532,558)],\n",
    "#     5: [(27,60), (77,93), (149,209), (210,234), (249,272), (317,409), (671,704)],\n",
    "# }\n",
    "\n",
    "x = 7\n",
    "traj_path = os.path.join(data_dir, str(x), 'activeonly')\n",
    "print(f'traj_path {traj_path}')\n",
    "if os.path.isdir(traj_path):\n",
    "    # visualize the rgb_dbg dir\n",
    "    rgb = os.path.join(traj_path, 'rgb_dbg')\n",
    "    imgs = os.listdir(rgb)\n",
    "    n = len(imgs)\n",
    "    print(f'{n} imgs')\n",
    "    ctr = 0\n",
    "    rows = n/5\n",
    "    for x in range(int(rows)):\n",
    "        fig, axs = plt.subplots(1, 5, figsize=(16,8), dpi=160)\n",
    "        for y in range(5):\n",
    "            axs[y].imshow(cv2.cvtColor(cv2.imread(os.path.join(rgb, imgs[ctr])), cv2.COLOR_BGR2RGB))\n",
    "            axs[y].set_title(imgs[ctr])\n",
    "            ctr+=1\n",
    "        plt.show()\n"
   ]
  },
  {
   "cell_type": "markdown",
   "id": "4dc79aae-7832-47b0-95f6-64722d2f3196",
   "metadata": {},
   "source": [
    "<img src=vid_path align=\"center\">"
   ]
  },
  {
   "cell_type": "code",
   "execution_count": null,
   "id": "b4e3da90-0a46-4955-a76d-e0fcd00363cf",
   "metadata": {},
   "outputs": [],
   "source": []
  }
 ],
 "metadata": {
  "kernelspec": {
   "display_name": "loco",
   "language": "python",
   "name": "loco"
  },
  "language_info": {
   "codemirror_mode": {
    "name": "ipython",
    "version": 3
   },
   "file_extension": ".py",
   "mimetype": "text/x-python",
   "name": "python",
   "nbconvert_exporter": "python",
   "pygments_lexer": "ipython3",
   "version": "3.7.4"
  }
 },
 "nbformat": 4,
 "nbformat_minor": 5
}
