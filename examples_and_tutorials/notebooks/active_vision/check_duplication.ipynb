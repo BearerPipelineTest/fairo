{
 "cells": [
  {
   "cell_type": "code",
   "execution_count": 62,
   "id": "5320408a-4751-4e74-b8fa-a7b40531a8c2",
   "metadata": {},
   "outputs": [],
   "source": [
    "# look at each traj\n",
    "# for each, look at how many unique frames were picked, average it out over all 10 trajectories\n",
    "import os\n",
    "import json \n",
    "from collections import defaultdict\n",
    "\n",
    "def find_unique_gts(pred_f):\n",
    "    with open(os.path.join(pred_f, 'train_img_id.json'), 'r') as f:\n",
    "        tii = json.load(f)\n",
    "#     print(set(tii['img_id']), len(set(tii['img_id'])))\n",
    "    return len(set(tii['img_id']))\n",
    "\n",
    "def get_actual_gtf(job_dir, gts, p, num_traj, act_pref=None):\n",
    "    uniq_gts = defaultdict(list)\n",
    "    for x in range(num_traj):\n",
    "        traj_path = os.path.join(job_dir, str(x))\n",
    "        if act_pref:\n",
    "            traj_path = os.path.join(traj_path, act_pref)\n",
    "        if os.path.isdir(traj_path):\n",
    "            for gt in gts:\n",
    "                pred_f = os.path.join(traj_path, f'pred_label_gt{gt}p{p}')\n",
    "                if os.path.isdir(pred_f):\n",
    "                    uniq_gts[gt].append(find_unique_gts(pred_f))\n",
    "    print(uniq_gts)\n",
    "    for k, v in uniq_gts.items():\n",
    "        uniq_gts[k] = round(sum(v)/len(v))\n",
    "#     print(uniq_gts)\n",
    "    return dict(uniq_gts)"
   ]
  },
  {
   "cell_type": "code",
   "execution_count": 63,
   "id": "0eced10f-6229-47e9-9ae3-1a31a51108ae",
   "metadata": {},
   "outputs": [],
   "source": [
    "def_job = '/checkpoint/soumith/jobs/active_vision/pipeline/apartment_0/default/no_noise/03-11-2021/15:16:07'\n",
    "act_job = '/checkpoint/apratik/jobs/active_vision/pipeline/apartment_0/straightline/no_noise/03-11-2021/07:01:43'"
   ]
  },
  {
   "cell_type": "code",
   "execution_count": 64,
   "id": "ddeb7aae-b90b-4a99-bb20-5d4d07d1ed48",
   "metadata": {},
   "outputs": [
    {
     "name": "stdout",
     "output_type": "stream",
     "text": [
      "defaultdict(<class 'list'>, {5: [5, 5, 5, 5, 5, 5, 5, 5], 10: [9, 9, 10, 10, 9, 9, 10, 10], 15: [12, 12, 15, 15, 14, 13, 13, 15, 14], 20: [15, 16, 20, 18, 18, 17, 17, 17, 18], 25: [16, 17, 23, 21, 22, 19, 20, 20, 21]})\n",
      "average unique frames for default {5: 5, 10: 10, 15: 14, 20: 17, 25: 20}\n",
      "defaultdict(<class 'list'>, {5: [5, 5, 5, 5, 5, 0, 5, 5, 5], 10: [9, 10, 9, 9, 10, 0, 10, 10, 10], 15: [11, 14, 13, 14, 15, 0, 13, 15, 13], 20: [14, 18, 15, 18, 19, 0, 16, 18, 18], 25: [16, 21, 17, 21, 23, 0, 19, 21, 22]})\n",
      "average unique frames for active {5: 4, 10: 9, 15: 12, 20: 15, 25: 18}\n"
     ]
    }
   ],
   "source": [
    "print(f'average unique frames for default {get_actual_gtf(def_job, gts=[5,10,15,20,25], p=2, num_traj=10)}')\n",
    "print(f\"average unique frames for active {get_actual_gtf(act_job, gts=[5,10,15,20,25], p=2, num_traj=10, act_pref='default')}\")"
   ]
  },
  {
   "cell_type": "code",
   "execution_count": null,
   "id": "f6d772e7-ce88-48c6-a1f0-5dd88a919bed",
   "metadata": {},
   "outputs": [],
   "source": []
  }
 ],
 "metadata": {
  "kernelspec": {
   "display_name": "loco",
   "language": "python",
   "name": "loco"
  },
  "language_info": {
   "codemirror_mode": {
    "name": "ipython",
    "version": 3
   },
   "file_extension": ".py",
   "mimetype": "text/x-python",
   "name": "python",
   "nbconvert_exporter": "python",
   "pygments_lexer": "ipython3",
   "version": "3.7.4"
  }
 },
 "nbformat": 4,
 "nbformat_minor": 5
}
