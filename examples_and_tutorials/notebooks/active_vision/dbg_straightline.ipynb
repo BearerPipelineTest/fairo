{
 "cells": [
  {
   "cell_type": "code",
   "execution_count": 1,
   "id": "60bd99e5-49bd-4538-99df-a4d24ada64e2",
   "metadata": {},
   "outputs": [],
   "source": [
    "import logging\n",
    "import numpy as np\n",
    "import matplotlib.pyplot as plt\n",
    "import math \n",
    "\n",
    "def yaw_pitch(look_vec):\n",
    "    v = look_vec / np.linalg.norm(look_vec)\n",
    "    pitch = -np.rad2deg(np.arcsin(v[1]))\n",
    "    yaw = -np.rad2deg(np.arctan2(v[0], v[2]))\n",
    "    return yaw, pitch\n",
    "\n",
    "def get_camera_angles(camera_pos, look_at_pnt):\n",
    "    \"\"\"get the new yaw/pan and pitch/tilt angle values and update the camera's\n",
    "    new look direction.\"\"\"\n",
    "    logging.debug(f\"look_at_point: {np.array(look_at_pnt)}\")\n",
    "    logging.debug(f\"camera_position: {np.array(camera_pos)}\")\n",
    "    logging.debug(f\"difference: {np.array(look_at_pnt) - np.array(camera_pos)}\")\n",
    "    look_dir = np.array(look_at_pnt) - np.array(camera_pos)\n",
    "    logging.debug(f\"Un-normalized look direction: {look_dir}\")\n",
    "    if np.linalg.norm(look_dir) < 0.01:\n",
    "        return 0.0, 0.0\n",
    "    look_dir = look_dir / np.linalg.norm(look_dir)\n",
    "    return yaw_pitch(look_dir)\n",
    "\n",
    "def get_step_target_for_move(base_pos, target, step_size=0.1):\n",
    "    \"\"\"\n",
    "    Heuristic to get step target of step_size for going to from base_pos to target. \n",
    "\n",
    "    Args:\n",
    "        base_pos ([x,z,yaw]): robot base in canonical coords\n",
    "        target ([x,y,z]): point target in canonical coords\n",
    "    \n",
    "    Returns:\n",
    "        move_target ([x,z,yaw]): robot base move target in canonical coords \n",
    "    \"\"\"\n",
    "\n",
    "#     dx = target[0] - base_pos[0]\n",
    "#     signx = 1 if dx > 0 else -1 \n",
    "\n",
    "#     dz = target[2] - base_pos[1]\n",
    "#     signz = 1 if dz > 0 else -1 \n",
    "\n",
    "#     targetx = base_pos[0] + signx * (step_size)\n",
    "#     targetz = base_pos[1] + signz * (step_size) \n",
    "    \n",
    "#     print(f'cur_pos {base_pos[:2]} target {target[0], target[2]}')\n",
    "    \n",
    "    dx = target[0] - base_pos[0]\n",
    "    dz = target[2] - base_pos[1]\n",
    "\n",
    "    if dx == 0: # vertical line \n",
    "        print('vertical slope')\n",
    "        theta = math.radians(90)\n",
    "    else:\n",
    "        theta = math.atan(abs(dz/dx))\n",
    "    \n",
    "    \n",
    "    signx = 1 if dx >= 0 else -1\n",
    "    signz = 1 if dz >= 0 else -1\n",
    "    \n",
    "    targetx = base_pos[0] + signx * step_size * math.cos(theta)\n",
    "    targetz = base_pos[1] + signz * step_size * math.sin(theta)\n",
    "    \n",
    "#     print(f'signx {signx}, targetx {targetx}')\n",
    "#     print(f'signz {signx}, targetz {targetx}')\n",
    "\n",
    "    yaw, _ = get_camera_angles([targetx, 0.6, targetz], target)\n",
    "    \n",
    "    return [targetx, targetz, yaw] "
   ]
  },
  {
   "cell_type": "code",
   "execution_count": 2,
   "id": "3209a046-c347-4223-9e49-58d9f40062b5",
   "metadata": {},
   "outputs": [],
   "source": [
    "# make a 2D grid, set pos, target, call the fn to test\n",
    "def path(ss, tt):\n",
    "    print(f'Path from {ss} to {tt}')\n",
    "    g = np.random.choice(a=[0, 0], size=(15,15))\n",
    "#     plt.imshow(g)\n",
    "#     plt.show()\n",
    "#     print(g)\n",
    "    t = [tt[0],0,tt[1]]\n",
    "    s = [ss[0],ss[1],0]\n",
    "\n",
    "    g[t[2], t[0]] = 1\n",
    "    g[s[1], s[0]] = 1\n",
    "\n",
    "    steps = 0\n",
    "\n",
    "    while True:\n",
    "        n = get_step_target_for_move(s, t, 1)\n",
    "#         print(f'next step {n}')\n",
    "\n",
    "        s = n\n",
    "        if s[1] == t[2] and s[0] == t[0]:\n",
    "            break\n",
    "        g[round(n[1]), round(n[0])] = 1\n",
    "        steps += 1\n",
    "        if steps > 20:\n",
    "            break\n",
    "\n",
    "#     print(g)\n",
    "#     plt.imshow(g)\n",
    "#     plt.show()\n",
    "    return g"
   ]
  },
  {
   "cell_type": "code",
   "execution_count": 3,
   "id": "d298bb91-8b24-4cbf-9534-d82bd65d718e",
   "metadata": {},
   "outputs": [
    {
     "name": "stdout",
     "output_type": "stream",
     "text": [
      "Path from [2, 9] to [1, 4]\n"
     ]
    },
    {
     "data": {
      "text/plain": [
       "array([[0, 0, 0, 0, 0, 0, 0, 0, 0, 0, 0, 0, 0, 0, 0],\n",
       "       [0, 0, 0, 0, 0, 0, 0, 0, 0, 0, 0, 0, 0, 0, 0],\n",
       "       [0, 0, 0, 0, 0, 0, 0, 0, 0, 0, 0, 0, 0, 0, 0],\n",
       "       [0, 1, 0, 0, 0, 0, 0, 0, 0, 0, 0, 0, 0, 0, 0],\n",
       "       [0, 1, 0, 0, 0, 0, 0, 0, 0, 0, 0, 0, 0, 0, 0],\n",
       "       [0, 1, 0, 0, 0, 0, 0, 0, 0, 0, 0, 0, 0, 0, 0],\n",
       "       [0, 1, 0, 0, 0, 0, 0, 0, 0, 0, 0, 0, 0, 0, 0],\n",
       "       [0, 0, 1, 0, 0, 0, 0, 0, 0, 0, 0, 0, 0, 0, 0],\n",
       "       [0, 0, 1, 0, 0, 0, 0, 0, 0, 0, 0, 0, 0, 0, 0],\n",
       "       [0, 0, 1, 0, 0, 0, 0, 0, 0, 0, 0, 0, 0, 0, 0],\n",
       "       [0, 0, 0, 0, 0, 0, 0, 0, 0, 0, 0, 0, 0, 0, 0],\n",
       "       [0, 0, 0, 0, 0, 0, 0, 0, 0, 0, 0, 0, 0, 0, 0],\n",
       "       [0, 0, 0, 0, 0, 0, 0, 0, 0, 0, 0, 0, 0, 0, 0],\n",
       "       [0, 0, 0, 0, 0, 0, 0, 0, 0, 0, 0, 0, 0, 0, 0],\n",
       "       [0, 0, 0, 0, 0, 0, 0, 0, 0, 0, 0, 0, 0, 0, 0]])"
      ]
     },
     "execution_count": 3,
     "metadata": {},
     "output_type": "execute_result"
    }
   ],
   "source": [
    "path([2,9], [1,4])"
   ]
  },
  {
   "cell_type": "code",
   "execution_count": 5,
   "id": "79fa3549-6dc9-4676-b618-8eae35389c02",
   "metadata": {},
   "outputs": [
    {
     "name": "stdout",
     "output_type": "stream",
     "text": [
      "Path from (9, 0) to (2, 4)\n",
      "Path from (8, 9) to (4, 1)\n",
      "Path from (4, 4) to (5, 6)\n",
      "Path from (9, 9) to (1, 4)\n",
      "Path from (6, 9) to (3, 4)\n",
      "Path from (6, 8) to (7, 0)\n",
      "Path from (0, 9) to (5, 5)\n",
      "Path from (4, 2) to (3, 1)\n",
      "Path from (5, 4) to (3, 1)\n",
      "Path from (9, 2) to (3, 4)\n",
      "Path from (9, 1) to (8, 3)\n",
      "Path from (9, 7) to (6, 0)\n",
      "Path from (1, 0) to (3, 3)\n",
      "Path from (7, 4) to (1, 3)\n",
      "Path from (5, 9) to (8, 8)\n",
      "Path from (0, 5) to (8, 4)\n",
      "Path from (9, 1) to (2, 0)\n",
      "Path from (5, 2) to (3, 8)\n",
      "Path from (0, 2) to (1, 4)\n",
      "Path from (6, 2) to (0, 1)\n",
      "Path from (9, 7) to (4, 1)\n",
      "Path from (2, 8) to (4, 6)\n",
      "Path from (0, 4) to (7, 9)\n",
      "Path from (3, 5) to (7, 8)\n",
      "Path from (4, 9) to (6, 3)\n",
      "Path from (2, 6) to (8, 7)\n",
      "Path from (8, 6) to (2, 5)\n",
      "Path from (4, 3) to (0, 7)\n",
      "Path from (4, 6) to (5, 2)\n",
      "Path from (7, 2) to (5, 2)\n",
      "Path from (7, 7) to (4, 0)\n",
      "Path from (1, 6) to (0, 7)\n",
      "Path from (8, 7) to (5, 8)\n",
      "Path from (8, 3) to (4, 5)\n",
      "Path from (6, 3) to (3, 3)\n",
      "Path from (0, 1) to (8, 1)\n",
      "Path from (9, 2) to (1, 4)\n",
      "Path from (2, 0) to (5, 3)\n",
      "Path from (8, 7) to (4, 7)\n",
      "Path from (9, 9) to (6, 6)\n"
     ]
    },
    {
     "data": {
      "image/png": "[encoded data removed]",
      "text/plain": [
       "<Figure size 1440x576 with 40 Axes>"
      ]
     },
     "metadata": {
      "needs_background": "light"
     },
     "output_type": "display_data"
    }
   ],
   "source": [
    "import random\n",
    "# random.seed(1)\n",
    "def get_random_point(n=9):\n",
    "    return random.randint(0, n), random.randint(0, n)\n",
    "\n",
    "plt.rcParams[\"figure.figsize\"] = (20,8)\n",
    "\n",
    "fig, axs = plt.subplots(4, 10)\n",
    "for x in range (4):\n",
    "    for y in range(10):\n",
    "        s = get_random_point()\n",
    "        t = get_random_point()\n",
    "        g = path(s, t)\n",
    "        axs[x,y].imshow(g)\n",
    "\n",
    "plt.show()"
   ]
  },
  {
   "cell_type": "code",
   "execution_count": 6,
   "id": "8383a0bf-e21c-4052-b944-1b9878007ff7",
   "metadata": {},
   "outputs": [],
   "source": [
    "from math import pi\n",
    "def get_circular_path(r, n=10):\n",
    "    return [[math.cos(2*pi/n*x)*r,math.sin(2*pi/n*x)*r] for x in range(0,n+1)]"
   ]
  },
  {
   "cell_type": "code",
   "execution_count": 26,
   "id": "38d197fc-953e-45e5-b86d-b0def3f3546f",
   "metadata": {},
   "outputs": [],
   "source": [
    "def circular_path(ss, tt):\n",
    "#     print(f'Circular path around {tt}')\n",
    "    g = np.random.choice(a=[0, 0], size=(20,20))\n",
    "#     plt.imshow(g)\n",
    "#     plt.show()\n",
    "#     print(g)\n",
    "    t = [tt[0]+5,tt[1]+5]\n",
    "    s = [ss[0]+5,ss[1]+5]\n",
    "\n",
    "    g[t[1], t[0]] = 1\n",
    "#     g[s[1], s[0]] = 1\n",
    "\n",
    "    steps = 0\n",
    "    \n",
    "    pts = get_circular_path(r=3)\n",
    "    c = None\n",
    "    d = 10000\n",
    "    for x in pts:\n",
    "#         print(x)\n",
    "        n = [t[0]+x[0], t[1]+x[1]]\n",
    "        cd = np.linalg.norm(np.asarray(n) - np.asarray(s))\n",
    "        if cd <= d:\n",
    "            d = cd\n",
    "            c = n\n",
    "        g[round(n[1]), round(n[0])] = 1\n",
    "\n",
    "        \n",
    "    # get closest point on circumference \n",
    "    print(f'closest point {c}')\n",
    "    \n",
    "    while True:\n",
    "        n = get_step_target_for_move([s[0],s[1],0], [round(c[0]), 0, round(c[1])], 1)\n",
    "#         print(f'next step {n}')\n",
    "        s = n\n",
    "        if s[1] == round(c[1]) and s[0] == round(c[0]):\n",
    "            print('reached dest')\n",
    "            break\n",
    "        g[round(n[1]), round(n[0])] = 1\n",
    "        steps += 1\n",
    "        if steps > 20:\n",
    "            break\n",
    "\n",
    "#     print(g)\n",
    "#     plt.imshow(g)\n",
    "#     plt.show()\n",
    "    return g"
   ]
  },
  {
   "cell_type": "code",
   "execution_count": 27,
   "id": "43659cfb-f2c2-4ea0-9d21-f4f895ceee7c",
   "metadata": {},
   "outputs": [
    {
     "name": "stdout",
     "output_type": "stream",
     "text": [
      "closest point [11.0, 8.0]\n",
      "reached dest\n",
      "closest point [12.927050983124841, 7.146830451114539]\n",
      "closest point [8.0, 11.0]\n",
      "reached dest\n",
      "closest point [8.0, 6.999999999999999]\n",
      "reached dest\n",
      "closest point [6.072949016875158, 10.146830451114539]\n",
      "closest point [7.572949016875157, 9.23664424312258]\n",
      "closest point [12.072949016875157, 8.146830451114539]\n",
      "reached dest\n",
      "closest point [12.072949016875159, 8.853169548885461]\n",
      "closest point [9.927050983124843, 12.853169548885461]\n",
      "closest point [5.9270509831248415, 8.146830451114539]\n"
     ]
    },
    {
     "data": {
      "image/png": "[encoded data removed]",
      "text/plain": [
       "<Figure size 1440x288 with 10 Axes>"
      ]
     },
     "metadata": {
      "needs_background": "light"
     },
     "output_type": "display_data"
    }
   ],
   "source": [
    "def get_random_point(n=9):\n",
    "    return random.randint(0, n), random.randint(0, n)\n",
    "\n",
    "plt.rcParams[\"figure.figsize\"] = (20,4)\n",
    "\n",
    "fig, axs = plt.subplots(2, 5)\n",
    "for x in range (2):\n",
    "    for y in range(5):\n",
    "        s = get_random_point()\n",
    "        t = get_random_point()\n",
    "        g = circular_path(s, t)\n",
    "        axs[x,y].imshow(g)\n",
    "        axs[x,y].set_title(f'start {[s[0]+5, s[1]+5]} target {[t[0]+5, t[1]+5]}')\n",
    "\n",
    "plt.show()\n",
    "\n"
   ]
  },
  {
   "cell_type": "code",
   "execution_count": null,
   "id": "f1224724-67c6-4e91-8cd2-99e542caa842",
   "metadata": {},
   "outputs": [],
   "source": []
  }
 ],
 "metadata": {
  "kernelspec": {
   "display_name": "loco",
   "language": "python",
   "name": "loco"
  },
  "language_info": {
   "codemirror_mode": {
    "name": "ipython",
    "version": 3
   },
   "file_extension": ".py",
   "mimetype": "text/x-python",
   "name": "python",
   "nbconvert_exporter": "python",
   "pygments_lexer": "ipython3",
   "version": "3.7.4"
  }
 },
 "nbformat": 4,
 "nbformat_minor": 5
}
