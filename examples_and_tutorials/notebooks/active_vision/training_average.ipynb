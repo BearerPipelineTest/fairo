{
 "cells": [
  {
   "cell_type": "code",
   "execution_count": 1,
   "id": "9b6c23e3-9ed4-4b16-a86e-d6d8a82e0ba2",
   "metadata": {},
   "outputs": [
    {
     "name": "stdout",
     "output_type": "stream",
     "text": [
      "baseline avg 65.30212765957447\n"
     ]
    }
   ],
   "source": [
    "from datetime import datetime\n",
    "import numpy as np\n",
    "\n",
    "def get_avg(file_name):\n",
    "    data = []\n",
    "    with open(file_name) as f:\n",
    "        for l in f.readlines():\n",
    "            l = l.lstrip().rstrip().split()\n",
    "            if len(l) > 0:\n",
    "                start = datetime.strptime(' '.join(l[1:3]), '%Y-%m-%d %H:%M:%S')\n",
    "                end = datetime.strptime(' '.join(l[-2:]), '%Y-%m-%d %H:%M:%S')\n",
    "                data.append((end-start).total_seconds())\n",
    "    avg = np.mean(data)\n",
    "    # print(f'average time {avg}')\n",
    "    return avg/60\n",
    "            \n",
    "old_log = '/checkpoint/apratik/jobs/reexplore/training/04-02-2022/09:28:14/job_log.txt'\n",
    "print(f'baseline avg {get_avg(old_log)}')"
   ]
  },
  {
   "cell_type": "code",
   "execution_count": 2,
   "id": "fd4d613a-afdc-4425-9ac8-127895215206",
   "metadata": {},
   "outputs": [
    {
     "name": "stdout",
     "output_type": "stream",
     "text": [
      "baseline avg (min) 69.87426778242678\n"
     ]
    }
   ],
   "source": [
    "log0 = '/checkpoint/apratik/jobs/reexplore/training/04-02-2022/00:43:02/job_log.txt'\n",
    "print(f'baseline avg (min) {get_avg(log0)}')"
   ]
  },
  {
   "cell_type": "code",
   "execution_count": 3,
   "id": "9ced1343-6a75-4017-aec5-a2a2a69b45ec",
   "metadata": {},
   "outputs": [
    {
     "name": "stdout",
     "output_type": "stream",
     "text": [
      "early stopping training avg (min) 13.848555555555555\n"
     ]
    }
   ],
   "source": [
    "new_log = '/checkpoint/apratik/jobs/reexplore/training/04-02-2022/13:00:45/job_log.txt'\n",
    "print(f'early stopping training avg (min) {get_avg(new_log)}')\n"
   ]
  },
  {
   "cell_type": "code",
   "execution_count": 5,
   "id": "3a54b72e-9403-415e-bf06-b10225f5ed5f",
   "metadata": {},
   "outputs": [
    {
     "data": {
      "text/plain": [
       "14.748929398148148"
      ]
     },
     "execution_count": 5,
     "metadata": {},
     "output_type": "execute_result"
    }
   ],
   "source": [
    "get_avg('/checkpoint/apratik/jobs/reexplore/training/05-02-2022/07:32:20/job_log.txt')"
   ]
  },
  {
   "cell_type": "code",
   "execution_count": null,
   "id": "b5b258fd-c897-4db1-b076-2dc1275ef29d",
   "metadata": {},
   "outputs": [],
   "source": []
  }
 ],
 "metadata": {
  "kernelspec": {
   "display_name": "Python [conda env:droidlet]",
   "language": "python",
   "name": "conda-env-droidlet-py"
  },
  "language_info": {
   "codemirror_mode": {
    "name": "ipython",
    "version": 3
   },
   "file_extension": ".py",
   "mimetype": "text/x-python",
   "name": "python",
   "nbconvert_exporter": "python",
   "pygments_lexer": "ipython3",
   "version": "3.7.12"
  }
 },
 "nbformat": 4,
 "nbformat_minor": 5
}
