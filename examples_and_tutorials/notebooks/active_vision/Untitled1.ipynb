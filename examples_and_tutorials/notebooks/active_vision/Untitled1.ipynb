{
 "cells": [
  {
   "cell_type": "code",
   "execution_count": null,
   "id": "607fb88b-fb9c-4d70-ac18-dffab6cb510a",
   "metadata": {},
   "outputs": [],
   "source": [
    "# Train pipeline for instance seg\n",
    "\n",
    "# combine all images across all instance trajectories - so create one folder with all the trajectories appended basically\n",
    "# pick gt frames to do label prop on (5, 10, 15, 20, 25)\n",
    "# do label prop as far as possible on each\n",
    "# create dataset from this propagated set \n",
    "# train one model each for active and baseline"
   ]
  }
 ],
 "metadata": {
  "kernelspec": {
   "display_name": "loco",
   "language": "python",
   "name": "loco"
  },
  "language_info": {
   "codemirror_mode": {
    "name": "ipython",
    "version": 3
   },
   "file_extension": ".py",
   "mimetype": "text/x-python",
   "name": "python",
   "nbconvert_exporter": "python",
   "pygments_lexer": "ipython3",
   "version": "3.7.4"
  }
 },
 "nbformat": 4,
 "nbformat_minor": 5
}
