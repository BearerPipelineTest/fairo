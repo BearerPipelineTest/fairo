{
 "cells": [
  {
   "cell_type": "code",
   "execution_count": 1,
   "id": "b286744e-9ad0-46cd-b2ef-1e20fda5813f",
   "metadata": {},
   "outputs": [],
   "source": [
    "# Get a list of all scenes in mp3d\n",
    "mp3d_root = '/checkpoint/apratik/mp3d/090920'"
   ]
  },
  {
   "cell_type": "code",
   "execution_count": 3,
   "id": "d7f1bc3b-32a6-4b7d-a605-76b540bf97f2",
   "metadata": {},
   "outputs": [],
   "source": [
    "import os\n",
    "scenes = os.listdir(mp3d_root)"
   ]
  },
  {
   "cell_type": "code",
   "execution_count": 4,
   "id": "5385fa27-a996-40da-9485-ceca27d6b4da",
   "metadata": {},
   "outputs": [
    {
     "data": {
      "text/plain": [
       "90"
      ]
     },
     "execution_count": 4,
     "metadata": {},
     "output_type": "execute_result"
    }
   ],
   "source": [
    "len(scenes)"
   ]
  },
  {
   "cell_type": "code",
   "execution_count": null,
   "id": "b12d4602-dd94-4bb2-9a45-721bb3e9f540",
   "metadata": {},
   "outputs": [],
   "source": []
  }
 ],
 "metadata": {
  "kernelspec": {
   "display_name": "loco",
   "language": "python",
   "name": "loco"
  },
  "language_info": {
   "codemirror_mode": {
    "name": "ipython",
    "version": 3
   },
   "file_extension": ".py",
   "mimetype": "text/x-python",
   "name": "python",
   "nbconvert_exporter": "python",
   "pygments_lexer": "ipython3",
   "version": "3.7.4"
  }
 },
 "nbformat": 4,
 "nbformat_minor": 5
}
