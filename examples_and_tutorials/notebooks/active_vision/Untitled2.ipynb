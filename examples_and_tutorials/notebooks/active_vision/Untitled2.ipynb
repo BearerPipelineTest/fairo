{
 "cells": [
  {
   "cell_type": "code",
   "execution_count": 3,
   "id": "1108a280-2aa8-4c8f-8e24-8251cbd2c204",
   "metadata": {},
   "outputs": [
    {
     "name": "stdout",
     "output_type": "stream",
     "text": [
      "10 [(5, 0), (5, 5), (5, 10), (5, 15), (5, 20), (5, 25), (10, 5), (15, 5), (20, 5), (25, 5)]\n"
     ]
    }
   ],
   "source": [
    "gtps = set()\n",
    "for gt in range(5, 10, 5):\n",
    "    for p in range(0, 30, 5):\n",
    "        gtps.add((gt,p))\n",
    "\n",
    "for gt in range(5, 30, 5):\n",
    "    for p in range(5,10,5):\n",
    "        gtps.add((gt,p))\n",
    "\n",
    "gtps = sorted(list(gtps))\n",
    "print(len(gtps), gtps)"
   ]
  },
  {
   "cell_type": "markdown",
   "id": "3d967270-f35f-4f04-88f3-bc42a111cfd2",
   "metadata": {},
   "source": [
    "10 settings * 2 trajectories * 3 heuristics \n",
    "each job is 60 jobs\n",
    "\n",
    "8 * 60 jobs -> 480 jobs "
   ]
  }
 ],
 "metadata": {
  "kernelspec": {
   "display_name": "Python [conda env:droidlet]",
   "language": "python",
   "name": "conda-env-droidlet-py"
  },
  "language_info": {
   "codemirror_mode": {
    "name": "ipython",
    "version": 3
   },
   "file_extension": ".py",
   "mimetype": "text/x-python",
   "name": "python",
   "nbconvert_exporter": "python",
   "pygments_lexer": "ipython3",
   "version": "3.7.12"
  }
 },
 "nbformat": 4,
 "nbformat_minor": 5
}
