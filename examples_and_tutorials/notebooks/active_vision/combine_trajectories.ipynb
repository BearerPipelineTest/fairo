{
 "cells": [
  {
   "cell_type": "code",
   "execution_count": 40,
   "id": "35a3c75a-155d-4c1d-b4e6-73a1ff1611a9",
   "metadata": {},
   "outputs": [],
   "source": [
    "import os \n",
    "import glob \n",
    "\n",
    "root_dir = '/checkpoint/apratik/data/data/apartment_0/default/no_noise/mul_traj_200'\n",
    "combine = 2\n",
    "new_dir = f'/checkpoint/apratik/data/data/apartment_0/default/no_noise/mul_traj_200_combined_{combine}'\n",
    "\n",
    "if not os.path.isdir(new_dir):\n",
    "    os.makedirs(new_dir)\n",
    "    \n",
    "# check valid trajectories\n",
    "def basic_sanity(traj_path):\n",
    "    def ll(x, y, ext):\n",
    "        return len(glob.glob(os.path.join(x, y, f'*{ext}')))\n",
    "    # TODO: add base_pose sanity check here\n",
    "    return ll(traj_path, 'rgb', '.jpg') == ll(traj_path, 'seg', '.npy') == ll(traj_path, 'depth', '.npy')\n",
    "\n",
    "valid_traj = []\n",
    "for x in range(201):\n",
    "    traj_path = os.path.join(root_dir, str(x))\n",
    "    if os.path.isdir(traj_path) and basic_sanity(traj_path):\n",
    "        valid_traj.append(traj_path)"
   ]
  },
  {
   "cell_type": "code",
   "execution_count": null,
   "id": "3fc4ea1b-2fc1-48c2-9d52-8b41a284f961",
   "metadata": {},
   "outputs": [
    {
     "name": "stdout",
     "output_type": "stream",
     "text": [
      "combining /checkpoint/apratik/data/data/apartment_0/default/no_noise/mul_traj_200/2 and /checkpoint/apratik/data/data/apartment_0/default/no_noise/mul_traj_200/3\n"
     ]
    }
   ],
   "source": [
    "from shutil import copyfile\n",
    "import json\n",
    "\n",
    "def acopyjson(a, b, c):\n",
    "    with open(a, \"r\") as f:\n",
    "        dat = json.load(f)\n",
    "        \n",
    "    with open(b, \"r\") as f:\n",
    "        dat2 = json.load(f)\n",
    "        \n",
    "    ctr = len(dat.keys())\n",
    "#     print(f'before {len(dat.keys()), len(dat2.keys())}')\n",
    "    for k, v in dat2.items():\n",
    "        dat[ctr] = v\n",
    "        ctr += 1\n",
    "    \n",
    "#     print(f'after {len(dat.keys())}')\n",
    "    with open(c, \"w\") as fp:\n",
    "        json.dump(dat, fp)\n",
    "\n",
    "def acopydir(a, b, c, ext):\n",
    "    if not os.path.isdir(c):\n",
    "        os.makedirs(c)\n",
    "    \n",
    "    fsa = [x for x in glob.glob(os.path.join(a, f'*{ext}'))]\n",
    "    \n",
    "    ctr = 0\n",
    "    for f in fsa:\n",
    "        fname = f.split('/')[-1]\n",
    "        copyfile(f, os.path.join(c, fname))\n",
    "        ctr += 1\n",
    "\n",
    "    fsb = [x for x in glob.glob(os.path.join(b, f'*{ext}'))] \n",
    "    for f in fsb:\n",
    "        fname = \"{:05d}{}\".format(ctr, ext)\n",
    "        ctr += 1\n",
    "        copyfile(f, os.path.join(c, fname))\n",
    "    \n",
    "#     print(f'acopydir {len(fsa), len(fsb)}')\n",
    "    \n",
    "    \n",
    "def combine(traj_a, traj_b, traj_ab):\n",
    "    if not os.path.isdir(traj_ab):\n",
    "        os.makedirs(traj_ab)\n",
    "    \n",
    "    # copy over rgb, depth, seg from traj a\n",
    "    # copy over rgb, d, seg from traj b but with new names \n",
    "    acopydir(os.path.join(traj_a, 'rgb'), os.path.join(traj_b, 'rgb'), os.path.join(traj_ab, 'rgb'), '.jpg')   \n",
    "    acopydir(os.path.join(traj_a, 'depth'), os.path.join(traj_b, 'depth'), os.path.join(traj_ab, 'depth'), '.npy')\n",
    "    acopydir(os.path.join(traj_a, 'seg'), os.path.join(traj_b, 'seg'), os.path.join(traj_ab, 'seg'), '.npy')\n",
    "    acopyjson(os.path.join(traj_a, 'data.json'), os.path.join(traj_b, 'data.json'), os.path.join(traj_ab, 'data.json'))\n",
    "    \n",
    "ctr = 1\n",
    "for x in range(0, len(valid_traj), 2):\n",
    "    a = valid_traj[x]\n",
    "    b = valid_traj[x+1]\n",
    "    if os.path.isdir(a) and os.path.isdir(b):\n",
    "        print(f'combining {a} and {b}')\n",
    "        combine(a, b, os.path.join(new_dir, str(ctr)))\n",
    "        ctr += 1\n",
    "    "
   ]
  },
  {
   "cell_type": "code",
   "execution_count": null,
   "id": "8f7733e5-fd30-49cf-8dc1-ba1cda44310e",
   "metadata": {},
   "outputs": [],
   "source": []
  }
 ],
 "metadata": {
  "kernelspec": {
   "display_name": "loco",
   "language": "python",
   "name": "loco"
  },
  "language_info": {
   "codemirror_mode": {
    "name": "ipython",
    "version": 3
   },
   "file_extension": ".py",
   "mimetype": "text/x-python",
   "name": "python",
   "nbconvert_exporter": "python",
   "pygments_lexer": "ipython3",
   "version": "3.7.4"
  }
 },
 "nbformat": 4,
 "nbformat_minor": 5
}
