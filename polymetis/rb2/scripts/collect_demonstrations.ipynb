{
 "cells": [
  {
   "cell_type": "code",
   "execution_count": 1,
   "id": "1b0ce137",
   "metadata": {},
   "outputs": [],
   "source": [
    "# Copyright (c) Meta Platforms, Inc. and affiliates.\n",
    "#\n",
    "# This source code is licensed under the MIT license found in the\n",
    "# LICENSE file in the root directory of this source tree.\n",
    "\n",
    "import time\n",
    "import pickle\n",
    "\n",
    "import numpy as np\n",
    "import sophus as sp\n",
    "import cv2\n",
    "import torch\n",
    "\n",
    "import polymetis\n",
    "\n",
    "from teleop_input_device import OculusTeleop\n",
    "from teleop_robot import TeleopRobotCartesianControl\n",
    "from realsense_d435 import RealSense"
   ]
  },
  {
   "cell_type": "code",
   "execution_count": 2,
   "id": "f222e7bb",
   "metadata": {},
   "outputs": [],
   "source": [
    "# Metainfo\n",
    "NUC_IP = \"100.96.135.68\"\n",
    "\n",
    "UPDATE_HZ = 30\n",
    "HOME_POSE = [0.0748543,-0.13675,-0.401604,-2.10836,0.287622,1.76446,-1.34985]\n",
    "\n",
    "NUM_EPISODES = 10\n",
    "MAX_EPISODE_DURATION = 10 #seconds"
   ]
  },
  {
   "cell_type": "code",
   "execution_count": 3,
   "id": "53273af5",
   "metadata": {},
   "outputs": [
    {
     "name": "stdout",
     "output_type": "stream",
     "text": [
      "Connecting to devices...\n",
      "Connected to robot.\n",
      "Connected to teleop device.\n",
      "Connecting to RealSense cameras (1 found) ...\n",
      "Connected to camera 1 (745412070129).\n",
      "Connected to camera.\n"
     ]
    }
   ],
   "source": [
    "# Initialize interfaces\n",
    "print(\"Connecting to devices...\")\n",
    "robot = TeleopRobotCartesianControl(ip_address=NUC_IP, use_gripper=False, home_pose=HOME_POSE)\n",
    "print(\"Connected to robot.\")\n",
    "teleop = OculusTeleop(query_hz=UPDATE_HZ)\n",
    "print(\"Connected to teleop device.\")\n",
    "camera = RealSense()\n",
    "print(\"Connected to camera.\")"
   ]
  },
  {
   "cell_type": "code",
   "execution_count": 4,
   "id": "487120fa",
   "metadata": {},
   "outputs": [],
   "source": [
    "# Helper functions\n",
    "def pose_elementwise_diff(pose1, pose2):\n",
    "    return sp.SE3(\n",
    "        (pose2.so3() * pose1.so3().inverse()).matrix().T,\n",
    "        pose2.translation() - pose1.translation(),\n",
    "    )\n",
    "\n",
    "def pose_elementwise_apply(delta_pose, pose):\n",
    "    return sp.SE3(\n",
    "        (pose.so3() * delta_pose.so3()).matrix(),\n",
    "        delta_pose.translation() + pose.translation(),\n",
    "    )\n",
    "\n",
    "def compute_desired_pose(vr_pose_curr, vr_pose_ref, arm_pose_ref):\n",
    "    \"\"\"vr_pose_curr - vr_pose_ref = arm_pose_desired - arm_pose_ref\"\"\"\n",
    "    vr_pose_diff = pose_elementwise_diff(vr_pose_ref, vr_pose_curr)\n",
    "    arm_pose_desired = pose_elementwise_apply(vr_pose_diff, arm_pose_ref)\n",
    "    return arm_pose_desired"
   ]
  },
  {
   "cell_type": "code",
   "execution_count": null,
   "id": "e622ba56",
   "metadata": {},
   "outputs": [
    {
     "name": "stdout",
     "output_type": "stream",
     "text": [
      "======================== TELEOP START =========================\n",
      "Starting episode 1.\n",
      "\tEnd of episode 1. Resetting...\n",
      "Done.\n",
      "Starting episode 2.\n",
      "Interrupt detected. Reinstantiating control policy...\n",
      "\tWarning: Max episode length of 300 reached.\n",
      "\tEnd of episode 2. Resetting...\n",
      "Done.\n",
      "Starting episode 3.\n",
      "Interrupt detected. Reinstantiating control policy...\n",
      "\tEnd of episode 3. Resetting...\n",
      "Done.\n",
      "Starting episode 4.\n",
      "Interrupt detected. Reinstantiating control policy...\n",
      "Interrupt detected. Reinstantiating control policy...\n",
      "\tEnd of episode 4. Resetting...\n",
      "Done.\n",
      "Starting episode 5.\n",
      "Interrupt detected. Reinstantiating control policy...\n",
      "\tEnd of episode 5. Resetting...\n",
      "Done.\n"
     ]
    }
   ],
   "source": [
    "# Initialize variables\n",
    "vr_pose_ref = sp.SE3()\n",
    "arm_pose_ref = sp.SE3()\n",
    "init_episode = True\n",
    "\n",
    "t0 = time.time()\n",
    "t_target = t0\n",
    "t_delta = 1.0 / UPDATE_HZ\n",
    "\n",
    "episode_count = 0\n",
    "episode_length = 0\n",
    "max_episode_length = UPDATE_HZ * MAX_EPISODE_DURATION\n",
    "\n",
    "demo_data = []\n",
    "\n",
    "# Start teleop loop\n",
    "print(\"======================== TELEOP START =========================\")\n",
    "while episode_count < NUM_EPISODES:\n",
    "    # Obtain info from teleop device\n",
    "    is_active, vr_pose_curr, grasp_state = teleop.get_state()\n",
    "\n",
    "    # Update arm\n",
    "    if is_active:\n",
    "        # Initialize episode\n",
    "        if init_episode:\n",
    "            print(f\"Starting episode {episode_count + 1}.\")\n",
    "\n",
    "            # Initialize reference pose\n",
    "            vr_pose_ref = vr_pose_curr\n",
    "            arm_pose_ref = robot.get_ee_pose()\n",
    "            init_episode = False\n",
    "\n",
    "            # Initialize episode data\n",
    "            demo_data.append([])\n",
    "\n",
    "        # Query & save state data\n",
    "        img = camera.get_images()[0]\n",
    "        joint_angles = robot.get_joint_pos()\n",
    "        if episode_length <= max_episode_length:\n",
    "            demo_data[episode_count].append((img, joint_angles))\n",
    "        if episode_length == max_episode_length:\n",
    "            print(f\"\\tWarning: Max episode length of {max_episode_length} reached.\")\n",
    "\n",
    "        # Update\n",
    "        arm_pose_desired = compute_desired_pose(vr_pose_curr, vr_pose_ref, arm_pose_ref)\n",
    "        robot.update_ee_pose(arm_pose_desired)\n",
    "        robot.update_grasp_state(grasp_state)\n",
    "\n",
    "        episode_length += 1\n",
    "\n",
    "    else:\n",
    "        if not init_episode:\n",
    "            print(f\"\\tEnd of episode {episode_count + 1}. Resetting...\")\n",
    "            init_episode = True\n",
    "            robot.reset()\n",
    "            print(\"Done.\")\n",
    "\n",
    "            # Update stats\n",
    "            episode_count += 1\n",
    "            episode_length = 0\n",
    "\n",
    "\n",
    "    # Spin once\n",
    "    t_target += t_delta\n",
    "    t_remaining = t_target - time.time()\n",
    "    time.sleep(max(t_remaining, 0.0))\n",
    "    \n",
    "print(\"======================== TELEOP END =========================\")"
   ]
  },
  {
   "cell_type": "code",
   "execution_count": 8,
   "id": "b385abba",
   "metadata": {},
   "outputs": [],
   "source": [
    "# Downsample imgs\n",
    "demo_data_processed = [\n",
    "    [(cv2.resize(state[0], (160, 120)), state[1].numpy()) for state in episode]\n",
    "    for episode in demo_data\n",
    "]"
   ]
  },
  {
   "cell_type": "code",
   "execution_count": 9,
   "id": "031c875a",
   "metadata": {},
   "outputs": [],
   "source": [
    "# Save data\n",
    "item_num = 15\n",
    "with open(f\"demos_item{item_num}.pkl\", 'wb') as f:\n",
    "    pickle.dump(demo_data_processed, f)"
   ]
  },
  {
   "cell_type": "code",
   "execution_count": null,
   "id": "405f0edb",
   "metadata": {},
   "outputs": [],
   "source": []
  }
 ],
 "metadata": {
  "kernelspec": {
   "display_name": "Python 3 (ipykernel)",
   "language": "python",
   "name": "python3"
  },
  "language_info": {
   "codemirror_mode": {
    "name": "ipython",
    "version": 3
   },
   "file_extension": ".py",
   "mimetype": "text/x-python",
   "name": "python",
   "nbconvert_exporter": "python",
   "pygments_lexer": "ipython3",
   "version": "3.8.12"
  }
 },
 "nbformat": 4,
 "nbformat_minor": 5
}
