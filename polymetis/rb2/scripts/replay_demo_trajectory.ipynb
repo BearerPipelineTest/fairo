{
 "cells": [
  {
   "cell_type": "code",
   "execution_count": 2,
   "id": "09901e7c",
   "metadata": {},
   "outputs": [],
   "source": [
    "# Copyright (c) Meta Platforms, Inc. and affiliates.\n",
    "#\n",
    "# This source code is licensed under the MIT license found in the\n",
    "# LICENSE file in the root directory of this source tree.\n",
    "\n",
    "import time\n",
    "import pickle\n",
    "\n",
    "import numpy as np\n",
    "import sophus as sp\n",
    "import cv2\n",
    "import torch\n",
    "\n",
    "import polymetis\n",
    "\n",
    "from teleop_robot import TeleopRobotJointControl"
   ]
  },
  {
   "cell_type": "code",
   "execution_count": 3,
   "id": "e2bebe40",
   "metadata": {},
   "outputs": [],
   "source": [
    "# Metainfo\n",
    "NUC_IP = \"100.96.135.68\"\n",
    "\n",
    "UPDATE_HZ = 30\n",
    "HOME_POSE = [0.0748543,-0.13675,-0.401604,-2.10836,0.287622,1.76446,-1.34985]"
   ]
  },
  {
   "cell_type": "code",
   "execution_count": null,
   "id": "f9fad8e6",
   "metadata": {},
   "outputs": [],
   "source": [
    "# Initialize interfaces\n",
    "print(\"Connecting to devices...\")\n",
    "robot = TeleopRobotJointControl(ip_address=NUC_IP, use_gripper=False, home_pose=HOME_POSE)\n",
    "print(\"Connected to robot.\")"
   ]
  },
  {
   "cell_type": "code",
   "execution_count": null,
   "id": "e9232ef5",
   "metadata": {},
   "outputs": [],
   "source": [
    "# Load trajectories\n",
    "FILENAME = \"demos_item15.pkl\"\n",
    "TRAJ_NUM = 0\n",
    "\n",
    "with open(FILENAME, 'rb') as f:\n",
    "    demo_data = pickle.load(f)\n",
    "joint_traj = [state[1] for state in demo_data[TRAJ_NUM]]"
   ]
  },
  {
   "cell_type": "code",
   "execution_count": null,
   "id": "5c30ed55",
   "metadata": {},
   "outputs": [],
   "source": [
    "# Replay\n",
    "t0 = time.time()\n",
    "t_target = t0\n",
    "t_delta = 1.0 / UPDATE_HZ\n",
    "\n",
    "for joint_pos in joint_traj:\n",
    "    robot.update_joint_pos(joint_pos)\n",
    "    \n",
    "    # Spin once\n",
    "    t_target += t_delta\n",
    "    t_remaining = t_target - time.time()\n",
    "    time.sleep(max(t_remaining, 0.0))"
   ]
  }
 ],
 "metadata": {
  "kernelspec": {
   "display_name": "Python 3 (ipykernel)",
   "language": "python",
   "name": "python3"
  },
  "language_info": {
   "codemirror_mode": {
    "name": "ipython",
    "version": 3
   },
   "file_extension": ".py",
   "mimetype": "text/x-python",
   "name": "python",
   "nbconvert_exporter": "python",
   "pygments_lexer": "ipython3",
   "version": "3.8.12"
  }
 },
 "nbformat": 4,
 "nbformat_minor": 5
}
